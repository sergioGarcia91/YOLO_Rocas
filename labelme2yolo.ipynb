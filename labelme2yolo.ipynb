{
  "nbformat": 4,
  "nbformat_minor": 0,
  "metadata": {
    "colab": {
      "provenance": [],
      "toc_visible": true,
      "authorship_tag": "ABX9TyOej7RNYiv1TeXYD4sM5TiL",
      "include_colab_link": true
    },
    "kernelspec": {
      "name": "python3",
      "display_name": "Python 3"
    },
    "language_info": {
      "name": "python"
    }
  },
  "cells": [
    {
      "cell_type": "markdown",
      "metadata": {
        "id": "view-in-github",
        "colab_type": "text"
      },
      "source": [
        "<a href=\"https://colab.research.google.com/github/sergioGarcia91/YOLO_Rocas/blob/main/labelme2yolo.ipynb\" target=\"_parent\"><img src=\"https://colab.research.google.com/assets/colab-badge.svg\" alt=\"Open In Colab\"/></a>"
      ]
    },
    {
      "cell_type": "markdown",
      "source": [
        "# Inicio"
      ],
      "metadata": {
        "id": "3tPCbY9tUoO4"
      }
    },
    {
      "cell_type": "code",
      "source": [
        "from google.colab import drive\n",
        "drive.mount('/content/drive')"
      ],
      "metadata": {
        "colab": {
          "base_uri": "https://localhost:8080/"
        },
        "id": "zW8x0-ehUnBs",
        "outputId": "7f9818e5-5606-43d5-a2ea-08582e63b803"
      },
      "execution_count": null,
      "outputs": [
        {
          "output_type": "stream",
          "name": "stdout",
          "text": [
            "Drive already mounted at /content/drive; to attempt to forcibly remount, call drive.mount(\"/content/drive\", force_remount=True).\n"
          ]
        }
      ]
    },
    {
      "cell_type": "code",
      "source": [
        "!pip install labelme2yolo"
      ],
      "metadata": {
        "colab": {
          "base_uri": "https://localhost:8080/"
        },
        "id": "WOac17PnUr1A",
        "outputId": "26066ff5-6794-4713-c6ec-da54c419f6c4"
      },
      "execution_count": null,
      "outputs": [
        {
          "output_type": "stream",
          "name": "stdout",
          "text": [
            "Collecting labelme2yolo\n",
            "  Downloading labelme2yolo-0.1.7-py3-none-any.whl (8.8 kB)\n",
            "Requirement already satisfied: numpy<1.27.0,>=1.23.1 in /usr/local/lib/python3.10/dist-packages (from labelme2yolo) (1.25.2)\n",
            "Requirement already satisfied: opencv-python>=4.1.2 in /usr/local/lib/python3.10/dist-packages (from labelme2yolo) (4.8.0.76)\n",
            "Requirement already satisfied: pillow<10.3,>=9.2 in /usr/local/lib/python3.10/dist-packages (from labelme2yolo) (9.4.0)\n",
            "Requirement already satisfied: rich in /usr/local/lib/python3.10/dist-packages (from labelme2yolo) (13.7.1)\n",
            "Requirement already satisfied: markdown-it-py>=2.2.0 in /usr/local/lib/python3.10/dist-packages (from rich->labelme2yolo) (3.0.0)\n",
            "Requirement already satisfied: pygments<3.0.0,>=2.13.0 in /usr/local/lib/python3.10/dist-packages (from rich->labelme2yolo) (2.16.1)\n",
            "Requirement already satisfied: mdurl~=0.1 in /usr/local/lib/python3.10/dist-packages (from markdown-it-py>=2.2.0->rich->labelme2yolo) (0.1.2)\n",
            "Installing collected packages: labelme2yolo\n",
            "Successfully installed labelme2yolo-0.1.7\n"
          ]
        }
      ]
    },
    {
      "cell_type": "code",
      "source": [
        "!labelme2yolo --json_dir /content/drive/MyDrive/Manuscritos_Investigacion/Rocas/FotosParaLabelme"
      ],
      "metadata": {
        "colab": {
          "base_uri": "https://localhost:8080/"
        },
        "id": "TmwRtdGdW5Sn",
        "outputId": "229f5555-8a52-48d2-e6b2-ab56c5cb0a04"
      },
      "execution_count": null,
      "outputs": [
        {
          "output_type": "stream",
          "name": "stdout",
          "text": [
            "INFO:labelme2yolo:Searching label list from json files ...\n",
            "INFO:labelme2yolo:Converting train set ...\n",
            "\u001b[2K\u001b[36mConverting...\u001b[0m \u001b[90m━━━━━━━━━━━━━━━━━━━━━━━━━━━━━━━━━━━━━━━━\u001b[0m \u001b[35m100%\u001b[0m \u001b[36m0:00:00\u001b[0m\n",
            "\u001b[?25hINFO:labelme2yolo:Converting val set ...\n",
            "\u001b[2K\u001b[36mConverting...\u001b[0m \u001b[90m━━━━━━━━━━━━━━━━━━━━━━━━━━━━━━━━━━━━━━━━\u001b[0m \u001b[35m100%\u001b[0m \u001b[36m0:00:00\u001b[0m\n",
            "\u001b[?25hINFO:labelme2yolo:Converting test set ...\n",
            "\u001b[2K\u001b[36mConverting...\u001b[0m \u001b[90m━━━━━━━━━━━━━━━━━━━━━━━━━━━━━━━━━━━━━━━━\u001b[0m \u001b[35m  0%\u001b[0m \u001b[36m-:--:--\u001b[0m\n",
            "\u001b[?25h"
          ]
        }
      ]
    },
    {
      "cell_type": "code",
      "source": [
        "!ls /content/drive/MyDrive/Manuscritos_Investigacion/Rocas/FotosParaLabelme/YOLODataset/"
      ],
      "metadata": {
        "colab": {
          "base_uri": "https://localhost:8080/"
        },
        "id": "JoN79GXaftbt",
        "outputId": "f706a1af-4e97-461e-9e87-6703d329a934"
      },
      "execution_count": null,
      "outputs": [
        {
          "output_type": "stream",
          "name": "stdout",
          "text": [
            "dataset.yaml  images  labels\n"
          ]
        }
      ]
    },
    {
      "cell_type": "code",
      "source": [
        "!labelme2yolo --json_dir /content/drive/MyDrive/Manuscritos_Investigacion/Rocas/PPT_Labelme"
      ],
      "metadata": {
        "colab": {
          "base_uri": "https://localhost:8080/"
        },
        "id": "H4OqoqppEeex",
        "outputId": "87433a08-4f10-4140-ced2-ceebf1266c27"
      },
      "execution_count": null,
      "outputs": [
        {
          "output_type": "stream",
          "name": "stdout",
          "text": [
            "INFO:labelme2yolo:Searching label list from json files ...\n",
            "INFO:labelme2yolo:Converting train set ...\n",
            "\u001b[2K\u001b[36mConverting...\u001b[0m \u001b[90m━━━━━━━━━━━━━━━━━━━━━━━━━━━━━━━━━━━━━━━━\u001b[0m \u001b[35m100%\u001b[0m \u001b[36m0:00:00\u001b[0m\n",
            "\u001b[?25hINFO:labelme2yolo:Converting val set ...\n",
            "\u001b[2K\u001b[36mConverting...\u001b[0m \u001b[90m━━━━━━━━━━━━━━━━━━━━━━━━━━━━━━━━━━━━━━━━\u001b[0m \u001b[35m100%\u001b[0m \u001b[36m0:00:00\u001b[0m\n",
            "\u001b[?25hINFO:labelme2yolo:Converting test set ...\n",
            "\u001b[2K\u001b[36mConverting...\u001b[0m \u001b[90m━━━━━━━━━━━━━━━━━━━━━━━━━━━━━━━━━━━━━━━━\u001b[0m \u001b[35m  0%\u001b[0m \u001b[36m-:--:--\u001b[0m\n",
            "\u001b[?25h"
          ]
        }
      ]
    },
    {
      "cell_type": "code",
      "source": [
        "!ls /content/drive/MyDrive/Manuscritos_Investigacion/Rocas/PPT_Labelme/YOLODataset/"
      ],
      "metadata": {
        "colab": {
          "base_uri": "https://localhost:8080/"
        },
        "id": "45kF5wisEnzI",
        "outputId": "b8ed051c-0536-42db-91ab-1e503088d1df"
      },
      "execution_count": null,
      "outputs": [
        {
          "output_type": "stream",
          "name": "stdout",
          "text": [
            "dataset.yaml  images  labels\n"
          ]
        }
      ]
    },
    {
      "cell_type": "code",
      "source": [
        "!labelme2yolo --json_dir /content/drive/MyDrive/Manuscritos_Investigacion/Rocas/Test_UIS_v02"
      ],
      "metadata": {
        "colab": {
          "base_uri": "https://localhost:8080/"
        },
        "id": "YQ-Nn98q-IKG",
        "outputId": "aca7b33b-6b59-48f5-e05e-ad3f93d07f21"
      },
      "execution_count": null,
      "outputs": [
        {
          "output_type": "stream",
          "name": "stdout",
          "text": [
            "INFO:labelme2yolo:Searching label list from json files ...\n",
            "INFO:labelme2yolo:Converting train set ...\n",
            "\u001b[2K\u001b[36mConverting...\u001b[0m \u001b[90m━━━━━━━━━━━━━━━━━━━━━━━━━━━━━━━━━━━━━━━━\u001b[0m \u001b[35m100%\u001b[0m \u001b[36m0:00:00\u001b[0m\n",
            "\u001b[?25hINFO:labelme2yolo:Converting val set ...\n",
            "\u001b[2K\u001b[36mConverting...\u001b[0m \u001b[90m━━━━━━━━━━━━━━━━━━━━━━━━━━━━━━━━━━━━━━━━\u001b[0m \u001b[35m100%\u001b[0m \u001b[36m0:00:00\u001b[0m\n",
            "\u001b[?25hINFO:labelme2yolo:Converting test set ...\n",
            "\u001b[2K\u001b[36mConverting...\u001b[0m \u001b[90m━━━━━━━━━━━━━━━━━━━━━━━━━━━━━━━━━━━━━━━━\u001b[0m \u001b[35m  0%\u001b[0m \u001b[36m-:--:--\u001b[0m\n",
            "\u001b[?25h"
          ]
        }
      ]
    },
    {
      "cell_type": "code",
      "source": [
        "!ls /content/drive/MyDrive/Manuscritos_Investigacion/Rocas/Test_UIS_v02/YOLODataset/"
      ],
      "metadata": {
        "colab": {
          "base_uri": "https://localhost:8080/"
        },
        "id": "153kVwfZ-LGF",
        "outputId": "6dad9e9b-59fe-4608-ace0-20762e74117e"
      },
      "execution_count": null,
      "outputs": [
        {
          "output_type": "stream",
          "name": "stdout",
          "text": [
            "dataset.yaml  images  labels  train  valid\n"
          ]
        }
      ]
    },
    {
      "cell_type": "markdown",
      "source": [
        "# FIn"
      ],
      "metadata": {
        "id": "a3L1_vADUqSy"
      }
    },
    {
      "cell_type": "code",
      "execution_count": null,
      "metadata": {
        "id": "KgajoDhAUi6R"
      },
      "outputs": [],
      "source": []
    }
  ]
}