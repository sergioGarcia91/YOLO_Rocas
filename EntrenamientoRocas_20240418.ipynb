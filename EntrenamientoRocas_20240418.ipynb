{
  "nbformat": 4,
  "nbformat_minor": 0,
  "metadata": {
    "colab": {
      "provenance": [],
      "gpuType": "T4",
      "toc_visible": true,
      "authorship_tag": "ABX9TyPfaFka7ebqAkHGKcffYgO1",
      "include_colab_link": true
    },
    "kernelspec": {
      "name": "python3",
      "display_name": "Python 3"
    },
    "language_info": {
      "name": "python"
    },
    "accelerator": "GPU"
  },
  "cells": [
    {
      "cell_type": "markdown",
      "metadata": {
        "id": "view-in-github",
        "colab_type": "text"
      },
      "source": [
        "<a href=\"https://colab.research.google.com/github/sergioGarcia91/YOLO_Rocas/blob/main/EntrenamientoRocas_20240418.ipynb\" target=\"_parent\"><img src=\"https://colab.research.google.com/assets/colab-badge.svg\" alt=\"Open In Colab\"/></a>"
      ]
    },
    {
      "cell_type": "markdown",
      "source": [
        "# Inicio"
      ],
      "metadata": {
        "id": "2EqcjDHiho1a"
      }
    },
    {
      "cell_type": "code",
      "execution_count": null,
      "metadata": {
        "id": "Ab-ZsK2chXs3"
      },
      "outputs": [],
      "source": [
        "# Instalar ultralytics\n",
        "!pip install ultralytics"
      ]
    },
    {
      "cell_type": "code",
      "source": [
        "!pip install tqdm --upgrade"
      ],
      "metadata": {
        "colab": {
          "base_uri": "https://localhost:8080/"
        },
        "id": "SLvRFHNehzJB",
        "outputId": "7a3f5c86-6032-40ca-d178-9f4fa6602b49"
      },
      "execution_count": null,
      "outputs": [
        {
          "output_type": "stream",
          "name": "stdout",
          "text": [
            "Requirement already satisfied: tqdm in /usr/local/lib/python3.10/dist-packages (4.66.5)\n"
          ]
        }
      ]
    },
    {
      "cell_type": "code",
      "source": [
        "# Importar librerias requeridas\n",
        "import os\n",
        "import shutil\n",
        "import random\n",
        "\n",
        "from tqdm.notebook import tqdm"
      ],
      "metadata": {
        "id": "3TcBcvdXh4ML"
      },
      "execution_count": null,
      "outputs": []
    },
    {
      "cell_type": "code",
      "source": [
        "# Conectar al Drive para cargar las rocas\n",
        "from google.colab import drive\n",
        "drive.mount('/content/drive')"
      ],
      "metadata": {
        "colab": {
          "base_uri": "https://localhost:8080/"
        },
        "id": "5yP0aehLh6L0",
        "outputId": "1c0b377e-a3bf-4417-a48b-b8118bee3546"
      },
      "execution_count": null,
      "outputs": [
        {
          "output_type": "stream",
          "name": "stdout",
          "text": [
            "Mounted at /content/drive\n"
          ]
        }
      ]
    },
    {
      "cell_type": "code",
      "source": [
        "import ultralytics\n",
        "ultralytics.checks()"
      ],
      "metadata": {
        "colab": {
          "base_uri": "https://localhost:8080/"
        },
        "id": "Lz5kGF4QjPwh",
        "outputId": "2bb8d65f-472a-4e38-fd76-ac3c5abba718"
      },
      "execution_count": null,
      "outputs": [
        {
          "output_type": "stream",
          "name": "stdout",
          "text": [
            "Ultralytics 8.3.20 🚀 Python-3.10.12 torch-2.4.1+cu121 CUDA:0 (Tesla T4, 15102MiB)\n",
            "Setup complete ✅ (2 CPUs, 12.7 GB RAM, 32.4/112.6 GB disk)\n"
          ]
        }
      ]
    },
    {
      "cell_type": "code",
      "source": [
        "# Load a model\n",
        "model = ultralytics.YOLO('yolov8n-seg.yaml')  # build a new model from YAML\n",
        "model = ultralytics.YOLO('yolov8n-seg.pt')  # load a pretrained model (recommended for training)\n",
        "model = ultralytics.YOLO('yolov8n-seg.yaml').load('yolov8n-seg.pt')  # build from YAML and transfer weights"
      ],
      "metadata": {
        "colab": {
          "base_uri": "https://localhost:8080/"
        },
        "id": "_wG4Q0JHjRT5",
        "outputId": "12a785bb-684c-4e56-86a8-4169b1578593"
      },
      "execution_count": null,
      "outputs": [
        {
          "output_type": "stream",
          "name": "stdout",
          "text": [
            "Downloading https://github.com/ultralytics/assets/releases/download/v8.3.0/yolov8n-seg.pt to 'yolov8n-seg.pt'...\n"
          ]
        },
        {
          "output_type": "stream",
          "name": "stderr",
          "text": [
            "100%|██████████| 6.74M/6.74M [00:00<00:00, 64.5MB/s]\n"
          ]
        },
        {
          "output_type": "stream",
          "name": "stdout",
          "text": [
            "Transferred 417/417 items from pretrained weights\n"
          ]
        }
      ]
    },
    {
      "cell_type": "markdown",
      "source": [
        "# Entrenar"
      ],
      "metadata": {
        "id": "ijh0c_7-xa3Z"
      }
    },
    {
      "cell_type": "code",
      "source": [
        "# en pathYaml se coloca la ruta del archivo yaml generado al descargar las\n",
        "# imágenes ya listas para el entrenamiento de labelme\n",
        "pathYaml = '/content/drive/MyDrive/Rocas/FotosParaLabelme/YOLODataset/dataset.yaml'\n",
        "\n",
        "# Train the model\n",
        "# Primera prueba con solo 3 epochs ... batch de 4 por el automatico\n",
        "results = model.train(data=pathYaml,\n",
        "                      epochs=10,\n",
        "                      imgsz=640,\n",
        "                      batch=80) # batch de -1 para que el identifique el ideal segun la GPU"
      ],
      "metadata": {
        "id": "oP7Wf_3DjS7Y"
      },
      "execution_count": null,
      "outputs": []
    },
    {
      "cell_type": "markdown",
      "source": [
        "## Reentrenar"
      ],
      "metadata": {
        "id": "ptQfb3FOHXsJ"
      }
    },
    {
      "cell_type": "code",
      "source": [
        "# Load a model\n",
        "model = ultralytics.YOLO('yolov8n-seg.yaml')  # build a new model from YAML\n",
        "model = ultralytics.YOLO('yolov8n-seg.pt')  # load a pretrained model (recommended for training)\n",
        "model = ultralytics.YOLO('yolov8n-seg.yaml').load('/content/runs/segment/train5/weights/best.pt')  # build from YAML and transfer weights\n",
        "#model = ultralytics.YOLO('yolov8x-seg.yaml').load('best.pt')  # build from YAML and transfer weights"
      ],
      "metadata": {
        "colab": {
          "base_uri": "https://localhost:8080/"
        },
        "id": "Pnw8059UHZB5",
        "outputId": "55701487-06d9-4d78-850d-a0ddf6bb5ef1"
      },
      "execution_count": null,
      "outputs": [
        {
          "output_type": "stream",
          "name": "stdout",
          "text": [
            "Transferred 381/417 items from pretrained weights\n"
          ]
        }
      ]
    },
    {
      "cell_type": "code",
      "source": [
        "# en pathYaml se coloca la ruta del archivo yaml generado al descargar las\n",
        "# imágenes ya listas para el entrenamiento de labelme\n",
        "pathYaml = '/content/drive/MyDrive/Rocas/FotosParaLabelme/YOLODataset/dataset.yaml'\n",
        "\n",
        "# Train the model\n",
        "# Primera prueba con solo 3 epochs ... batch de 4 por el automatico\n",
        "results = model.train(data=pathYaml,\n",
        "                      epochs=15,\n",
        "                      imgsz=640,\n",
        "                      batch=80) # batch de -1 para que el identifique el ideal segun la GPU"
      ],
      "metadata": {
        "id": "yoNuSskHHlfr"
      },
      "execution_count": null,
      "outputs": []
    },
    {
      "cell_type": "code",
      "source": [
        "# en pathYaml se coloca la ruta del archivo yaml generado al descargar las\n",
        "# imágenes ya listas para el entrenamiento de labelme\n",
        "pathYaml = '/content/drive/MyDrive/Rocas/FotosParaLabelme/YOLODataset/dataset.yaml'\n",
        "\n",
        "# Train the model\n",
        "# Primera prueba con solo 3 epochs ... batch de 4 por el automatico\n",
        "results = model.train(data=pathYaml,\n",
        "                      epochs=60,\n",
        "                      imgsz=640,\n",
        "                      batch=80, # batch de -1 para que el identifique el ideal segun la GPU\n",
        "                      augment= True,\n",
        "                      degrees=180,\n",
        "                      translate=0.4,\n",
        "                      perspective=0.0005,\n",
        "                      flipud=0.5,\n",
        "                      fliplr=0.6,\n",
        "                      mosaic=0.5,\n",
        "                      close_mosaic=10,\n",
        "                      val=True)"
      ],
      "metadata": {
        "id": "ccaaUwIZSJh4"
      },
      "execution_count": null,
      "outputs": []
    },
    {
      "cell_type": "markdown",
      "source": [
        "## PPT"
      ],
      "metadata": {
        "id": "aZW9yKRbNh1T"
      }
    },
    {
      "cell_type": "code",
      "source": [
        "# Load a model\n",
        "model = ultralytics.YOLO('yolov8n-seg.yaml')  # build a new model from YAML\n",
        "model = ultralytics.YOLO('yolov8n-seg.pt')  # load a pretrained model (recommended for training)\n",
        "model = ultralytics.YOLO('yolov8n-seg.yaml').load('/content/runs/segment/train6/weights/best.pt')  # build from YAML and transfer weights\n",
        "#model = ultralytics.YOLO('yolov8n-seg.yaml').load('best.pt')  # build from YAML and transfer weights"
      ],
      "metadata": {
        "colab": {
          "base_uri": "https://localhost:8080/"
        },
        "id": "zb0yUPGZNjJm",
        "outputId": "f5fd66e9-ae47-4c3b-dcce-e6b1893477fc"
      },
      "execution_count": null,
      "outputs": [
        {
          "output_type": "stream",
          "name": "stdout",
          "text": [
            "Transferred 381/417 items from pretrained weights\n"
          ]
        }
      ]
    },
    {
      "cell_type": "code",
      "source": [
        "# en pathYaml se coloca la ruta del archivo yaml generado al descargar las\n",
        "# imágenes ya listas para el entrenamiento de labelme\n",
        "pathYaml = '/content/drive/MyDrive/Rocas/PPT_Labelme/YOLODataset/dataset.yaml'\n",
        "\n",
        "# Train the model\n",
        "# Primera prueba con solo 3 epochs ... batch de 4 por el automatico\n",
        "results = model.train(data=pathYaml,\n",
        "                      epochs=5,\n",
        "                      imgsz=640,\n",
        "                      batch=20) # batch de -1 para que el identifique el ideal segun la GPU"
      ],
      "metadata": {
        "id": "CdhMp933fivj"
      },
      "execution_count": null,
      "outputs": []
    },
    {
      "cell_type": "code",
      "source": [
        "# en pathYaml se coloca la ruta del archivo yaml generado al descargar las\n",
        "# imágenes ya listas para el entrenamiento de labelme\n",
        "pathYaml = '/content/drive/MyDrive/Rocas/PPT_Labelme/YOLODataset/dataset.yaml'\n",
        "\n",
        "# Train the model\n",
        "# Primera prueba con solo 3 epochs ... batch de 4 por el automatico\n",
        "results = model.train(data=pathYaml,\n",
        "                      epochs=103,\n",
        "                      imgsz=640,\n",
        "                      batch=20, # batch de -1 para que el identifique el ideal segun la GPU\n",
        "                      augment= True,\n",
        "                      degrees=180,\n",
        "                      translate=0.4,\n",
        "                      perspective=0.0005,\n",
        "                      flipud=0.5,\n",
        "                      fliplr=0.6,\n",
        "                      mosaic=0.5,\n",
        "                      val=True)"
      ],
      "metadata": {
        "id": "T5K446P4N2a_"
      },
      "execution_count": null,
      "outputs": []
    },
    {
      "cell_type": "markdown",
      "source": [
        "# Predecir"
      ],
      "metadata": {
        "id": "2NfkxgnBxcx5"
      }
    },
    {
      "cell_type": "code",
      "source": [
        "# Predecir\n",
        "# Load a model\n",
        "pathModelo = '/content/runs/segment/train2/weights/best.pt'\n",
        "#pathModelo = 'best.pt'\n",
        "model = ultralytics.YOLO(pathModelo)  # load a custom model\n",
        "\n",
        "# Predict with the model\n",
        "pathTest = '/content/drive/MyDrive/Rocas/Test'\n",
        "results = model.predict(pathTest, conf=0.5, imgsz=640, save=True)  # predict on an image"
      ],
      "metadata": {
        "id": "X2oPehwrjZMS"
      },
      "execution_count": null,
      "outputs": []
    },
    {
      "cell_type": "code",
      "source": [
        "# Predecir para el manuscrito\n",
        "# Load a model\n",
        "#pathModelo = '/content/drive/MyDrive/Rocas/App/rocas_kuuku-x.pt'\n",
        "#pathModelo = '/content/drive/MyDrive/Rocas/App/rocas_kkuuk-n.pt'\n",
        "pathModelo = '/content/drive/MyDrive/Rocas/App/rocas_k-n.pt'\n",
        "#pathModelo = 'best.pt'\n",
        "model = ultralytics.YOLO(pathModelo)  # load a custom model\n",
        "\n",
        "# Predict with the model\n",
        "pathTest = '/content/drive/MyDrive/Rocas/Test_v2'\n",
        "results = model.predict(pathTest, conf=0.15, imgsz=640, save=True)  # predict on an image"
      ],
      "metadata": {
        "id": "o-bq4UMyTZ94"
      },
      "execution_count": null,
      "outputs": []
    },
    {
      "cell_type": "code",
      "source": [
        "# Process results list\n",
        "# Para guardar los resultados de las 21 imágenes que no ha visto la CNN\n",
        "id = 1\n",
        "pathSave = '/content/drive/MyDrive/Rocas/RunsResultados/'\n",
        "for result in results:\n",
        "  print(id)\n",
        "  boxes = result.boxes  # Boxes object for bounding box outputs\n",
        "  masks = result.masks  # Masks object for segmentation masks outputs\n",
        "  keypoints = result.keypoints  # Keypoints object for pose outputs\n",
        "  probs = result.probs  # Probs object for classification outputs\n",
        "  result.show()  # display to screen\n",
        "  result.save(filename=pathSave+f'result_{id}.jpg')  # save to disk\n",
        "  id += 1"
      ],
      "metadata": {
        "id": "wLAlVanSyCqx"
      },
      "execution_count": null,
      "outputs": []
    },
    {
      "cell_type": "markdown",
      "source": [
        "# Exportar carpetas"
      ],
      "metadata": {
        "id": "mjWxQHR003e1"
      }
    },
    {
      "cell_type": "code",
      "source": [
        "import locale\n",
        "locale.getpreferredencoding = lambda: \"UTF-8\""
      ],
      "metadata": {
        "id": "Se97kV1G05Ic"
      },
      "execution_count": null,
      "outputs": []
    },
    {
      "cell_type": "code",
      "source": [
        "!cp -r /content/runs /content/drive/MyDrive/Rocas/RunsResultados"
      ],
      "metadata": {
        "id": "TDNZxq6408wy"
      },
      "execution_count": null,
      "outputs": []
    },
    {
      "cell_type": "markdown",
      "source": [
        "# Validation"
      ],
      "metadata": {
        "id": "T_fY4CTyD1G6"
      }
    },
    {
      "cell_type": "code",
      "source": [
        "from ultralytics import YOLO"
      ],
      "metadata": {
        "id": "kKMcBlxyEPyb"
      },
      "execution_count": null,
      "outputs": []
    },
    {
      "cell_type": "code",
      "source": [
        "# Load a model\n",
        "model = YOLO('rocas_ku.pt')\n",
        "pathYaml = '/content/drive/MyDrive/Rocas/FotosParaLabelme/YOLODataset/dataset.yaml'\n",
        "# Customize validation settings\n",
        "validation_results = model.val(data=pathYaml,\n",
        "                               imgsz=640,\n",
        "                               batch=16,\n",
        "                               conf=0.25,\n",
        "                               iou=0.6,\n",
        "                               device='0')"
      ],
      "metadata": {
        "id": "QZB5DKavD21b"
      },
      "execution_count": null,
      "outputs": []
    },
    {
      "cell_type": "markdown",
      "source": [
        "# Fin"
      ],
      "metadata": {
        "id": "i67jYBfhhqmp"
      }
    },
    {
      "cell_type": "code",
      "source": [],
      "metadata": {
        "id": "TEd1JQE6hsBE"
      },
      "execution_count": null,
      "outputs": []
    }
  ]
}